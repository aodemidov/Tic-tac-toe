{
 "cells": [
  {
   "cell_type": "markdown",
   "id": "8c5da0aa-81ec-414e-ac6f-7b52f20e1eaf",
   "metadata": {},
   "source": [
    "# Игра \"Крестики - нолики\"\n",
    "### Итоговое задание студента Демидова А. О."
   ]
  },
  {
   "cell_type": "markdown",
   "id": "307c1bd3-7cb7-424a-9bc8-fce6f7baca53",
   "metadata": {},
   "source": [
    "## Режим игры с компьютером"
   ]
  },
  {
   "cell_type": "code",
   "execution_count": 171,
   "id": "d10a49a6-311d-46f5-bc65-f894049e81d5",
   "metadata": {},
   "outputs": [],
   "source": [
    "def solo():\n",
    "    name = str(input('Давайте познакомимся, как Вас зовут?'))\n",
    "    while True:\n",
    "        position = input(f'{name}, Вы хотите играть за крестики (1) или за нолики(0)?')\n",
    "                    \n",
    "        if not(position.isdigit()):\n",
    "            print(\" Введите 0 или 1! \")\n",
    "            continue\n",
    "        \n",
    "        pos = int(position)\n",
    "        \n",
    "        if pos != 0:\n",
    "            if pos != 1:\n",
    "                print(\" Введите 0 или 1! \")\n",
    "                continue\n",
    "        \n",
    "        return name, pos"
   ]
  },
  {
   "cell_type": "markdown",
   "id": "c42baa45-6506-47c1-93df-6f014679197c",
   "metadata": {},
   "source": [
    "## Многопользовательский режим"
   ]
  },
  {
   "cell_type": "code",
   "execution_count": 172,
   "id": "66aaf968-47d5-4c42-97ae-a12f7029c743",
   "metadata": {},
   "outputs": [],
   "source": [
    "def multiplay():\n",
    "    print('Давайте понакомимся')\n",
    "    name_1 = str(input('Имя первого игрока (крестики): '))\n",
    "    name_2 = str(input('Имя второго игрока (нолики):'))\n",
    "    return name_1, name_2"
   ]
  },
  {
   "cell_type": "markdown",
   "id": "80f60895-aa9d-4ff1-a3ed-e1c369c53af6",
   "metadata": {},
   "source": [
    "## Приветствие"
   ]
  },
  {
   "cell_type": "code",
   "execution_count": 173,
   "id": "f7954a75-504e-4aa3-b829-f4fffeb3e71a",
   "metadata": {},
   "outputs": [],
   "source": [
    "def start():\n",
    "    while True:\n",
    "        m = input('Добро пожаловать в игру \"Крестики-нолики\", игра с компьютером (1) или с другом (2)?')\n",
    "                    \n",
    "        if not(m.isdigit()):\n",
    "            print(\" Введите 1 или 2! \")\n",
    "            continue\n",
    "        \n",
    "        n = int(m)\n",
    "        \n",
    "        if n != 1:\n",
    "            if n != 2:\n",
    "                print(\" Введите 1 или 2! \")\n",
    "                continue\n",
    "        return n"
   ]
  },
  {
   "cell_type": "markdown",
   "id": "e1288a87-03ad-479f-a38a-89e59f3fcc19",
   "metadata": {},
   "source": [
    "## Правила игры"
   ]
  },
  {
   "cell_type": "code",
   "execution_count": 174,
   "id": "04bb5f26-165e-4298-9f33-583b985716ac",
   "metadata": {},
   "outputs": [],
   "source": [
    "def instr(name_1, name_2 = None):\n",
    "    name = name_1\n",
    "    if name_2 is None:\n",
    "        name_2 = ''\n",
    "    else:\n",
    "        name += ' и '\n",
    "    print(f'{name}{name_2}, рады преведствовать в игре!')\n",
    "    print(\" формат ввода: x y \")\n",
    "    print(\" x - номер строки  \")\n",
    "    print(\" y - номер столбца \")"
   ]
  },
  {
   "cell_type": "markdown",
   "id": "85a7cca6-a5ed-4f18-b5f1-e3cd97eca90d",
   "metadata": {},
   "source": [
    "## Игровое поле"
   ]
  },
  {
   "cell_type": "markdown",
   "id": "cb735c4c-2d22-45cc-8d78-b0e1cfbebc21",
   "metadata": {},
   "source": [
    "### Создание сетки"
   ]
  },
  {
   "cell_type": "code",
   "execution_count": 175,
   "id": "313949bb-7390-4e1c-a699-f150fa058eb4",
   "metadata": {},
   "outputs": [],
   "source": [
    "field = [[\"-\"] * 3 for i in range(3) ]"
   ]
  },
  {
   "cell_type": "markdown",
   "id": "952b88ca-aaef-4450-9b78-ba1b1de779b2",
   "metadata": {},
   "source": [
    "## Вывод игрового поля на экран"
   ]
  },
  {
   "cell_type": "code",
   "execution_count": 177,
   "id": "5f1ce0a6-ccd0-4ec8-8579-a20552dedda7",
   "metadata": {},
   "outputs": [],
   "source": [
    "def show():\n",
    "    print()\n",
    "    print(\"    | 0 | 1 | 2 | \")\n",
    "    print(\"  --------------- \")\n",
    "    for i, row in enumerate(field):\n",
    "        row_str = f\"  {i} | {' | '.join(row)} | \"\n",
    "        print(row_str)\n",
    "        print(\"  --------------- \")\n",
    "    print()"
   ]
  },
  {
   "cell_type": "markdown",
   "id": "7407d697-4357-48e9-99e0-ebfa88c6e026",
   "metadata": {},
   "source": [
    "## Запрос хода игрока"
   ]
  },
  {
   "cell_type": "code",
   "execution_count": 178,
   "id": "7490d53f-fe44-4fb8-b457-40a689fc9221",
   "metadata": {},
   "outputs": [],
   "source": [
    "def strock(name):\n",
    "    while True:\n",
    "        cords = input(f' {name}, Ваш ход: ').split()\n",
    "        \n",
    "        if len(cords) != 2:\n",
    "            print(' Введите 2 координаты! ')\n",
    "            continue\n",
    "        \n",
    "        x, y = cords\n",
    "        \n",
    "        if not(x.isdigit()) or not(y.isdigit()):\n",
    "            print(' Введите числа! ')\n",
    "            continue\n",
    "        \n",
    "        x, y = int(x), int(y)\n",
    "        \n",
    "        if 0 > x or x > 2 or  0 > y or  y > 2 :\n",
    "            print(' Координаты вне диапазона! ')\n",
    "            continue\n",
    "        \n",
    "        if field[x][y] != '-':\n",
    "            print(' Клетка занята! ')\n",
    "            continue\n",
    "        \n",
    "        return x, y"
   ]
  },
  {
   "cell_type": "markdown",
   "id": "5771807d-d14c-4240-8d7a-21616cf7e93b",
   "metadata": {},
   "source": [
    "## Ход компьютера"
   ]
  },
  {
   "cell_type": "code",
   "execution_count": 181,
   "id": "179661bb-fdfb-41a0-87ff-2c6ccf72d065",
   "metadata": {},
   "outputs": [],
   "source": [
    "def computer_move():\n",
    "    \n",
    "    for i in range(3):\n",
    "        if field[i][0] == field[i][1] and field[i][2] == '-':\n",
    "            return i,2\n",
    "        elif field[i][0] == field[i][2] and field[i][1] == '-':\n",
    "            return i,1\n",
    "        elif field[i][1] == field[i][2] and field[i][0] == '-':\n",
    "            return i,0\n",
    "            \n",
    "    for i in range(3):\n",
    "        if field[0][i] == field[1][i] and field[2][i] == '-':\n",
    "            return 2, i\n",
    "        elif field[0][i] == field[2][i] and field[1][i] == '-':\n",
    "            return 1, i\n",
    "        elif field[1][i] == field[2][i] and field[0][i] == '-':\n",
    "            return 0, i\n",
    "    \n",
    "    if field[0][0] == field[1][1] and field[2][2] == '-':\n",
    "        return 2, 2\n",
    "    if field[0][0] == field[2][2] and field[1][1] == '-':\n",
    "        return 1, 1\n",
    "    if field[1][1] == field[2][2] and field[0][0] == '-':\n",
    "        return 0, 0\n",
    "    \n",
    "    if field[0][2] == field[1][1] and field[2][0] == '-':\n",
    "        return 2, 0\n",
    "    if field[0][2] == field[2][0] and field[1][1] == '-':\n",
    "        return 1, 1\n",
    "    if field[2][0] == field[1][1] and field[0][2] == '-':\n",
    "        return 0, 2\n",
    "    \n",
    "    while True:\n",
    "        row = random.randint(0, 2)\n",
    "        col = random.randint(0, 2)\n",
    "        if field[row][col] == '-':\n",
    "            return row, col"
   ]
  },
  {
   "cell_type": "markdown",
   "id": "a3aa9f8f-23f0-4346-abfe-8ddc2d065c28",
   "metadata": {},
   "source": [
    "## Проверка "
   ]
  },
  {
   "cell_type": "code",
   "execution_count": 183,
   "id": "62dc6a82-2faf-41b6-9a47-c64402b37260",
   "metadata": {},
   "outputs": [],
   "source": [
    "def check_win():\n",
    "    for i in range(3):\n",
    "        symbols=[]\n",
    "        for j in range(3):\n",
    "            symbols.append(field[i][j])\n",
    "        if symbols == ['X','X','X'] or symbols == ['O','O','O']:\n",
    "            return True\n",
    "    for i in range(3):\n",
    "        symbols=[]\n",
    "        for j in range(3):\n",
    "            symbols.append(field[j][i])\n",
    "        if symbols == ['X','X','X'] or symbols == ['O','O','O']:\n",
    "            return True\n",
    "        \n",
    "    symbols=[]\n",
    "    for i in range(3):\n",
    "        symbols.append(field[i][i])\n",
    "        if symbols == ['X','X','X'] or symbols == ['O','O','O']:\n",
    "            return True\n",
    "    \n",
    "    symbols=[]    \n",
    "    for i in range(3):\n",
    "        symbols.append(field[i][2-i])\n",
    "        if symbols == ['X','X','X'] or symbols == ['O','O','O']:\n",
    "            return True\n",
    "        \n",
    "    return False"
   ]
  },
  {
   "cell_type": "markdown",
   "id": "88e51836-5d69-45a2-9921-e52f6a7342de",
   "metadata": {},
   "source": [
    "## Ход игры для двух игроков"
   ]
  },
  {
   "cell_type": "code",
   "execution_count": 184,
   "id": "1b578704-d7ae-4a10-9e3e-33d31d0c4fe8",
   "metadata": {},
   "outputs": [],
   "source": [
    "def multiplay_play(name_1,name_2):\n",
    "    \n",
    "    count = 0\n",
    "    while True:\n",
    "        count += 1\n",
    "        show()\n",
    "        if count % 2 == 1:\n",
    "            x, y = strock(name_1)\n",
    "            field[x][y] = 'X'\n",
    "            if check_win():\n",
    "                show()\n",
    "                print(f' {name_1} победил! ')\n",
    "                break\n",
    "        else:\n",
    "            x, y = strock(name_2)\n",
    "            field[x][y] = 'O'\n",
    "            if check_win():\n",
    "                show()\n",
    "                print(f' {name_2} победил! ')\n",
    "                break       \n",
    "    \n",
    "        if count == 9:\n",
    "            print(\" Ничья!\")\n",
    "            break"
   ]
  },
  {
   "cell_type": "markdown",
   "id": "cc211b6a-bf73-4b27-9a1a-b8f2a61d3862",
   "metadata": {},
   "source": [
    "## Ход одиночной игры"
   ]
  },
  {
   "cell_type": "code",
   "execution_count": 190,
   "id": "34270d26-e786-4d24-b266-9a623350f503",
   "metadata": {},
   "outputs": [],
   "source": [
    "def solo_play(name,position):\n",
    "    smb_user = 'X'\n",
    "    smb_comp = 'O'\n",
    "    \n",
    "    if not position:\n",
    "        smb_user, smb_comp = smb_comp, smb_user\n",
    "        \n",
    "        \n",
    "    count = 0\n",
    "    while True:\n",
    "        count += 1\n",
    "        show()\n",
    "        if count % 2 == 1:\n",
    "            if position:\n",
    "                x, y = strock(name)\n",
    "                field[x][y] = 'X'\n",
    "                if check_win():\n",
    "                    show()\n",
    "                    print(f' {name} победил! ')\n",
    "                    break\n",
    "            else:\n",
    "                print('Ход компютера:')\n",
    "                x, y = computer_move()\n",
    "                field[x][y] = 'X'\n",
    "                if check_win():\n",
    "                    show()\n",
    "                    print(f' Компютер победил! ')\n",
    "                    break\n",
    "        else:\n",
    "            if not position:\n",
    "                x, y = strock(name)\n",
    "                field[x][y] = 'O'\n",
    "                if check_win():\n",
    "                    show()\n",
    "                    print(f' {name} победил! ')\n",
    "                    break\n",
    "            else:\n",
    "                print('Ход компютера:')\n",
    "                x, y = computer_move()\n",
    "                field[x][y] = 'O'\n",
    "                if check_win():\n",
    "                    show()\n",
    "                    print(f' Компютер победил! ')\n",
    "                    break\n",
    "    \n",
    "        if count == 9:\n",
    "            print(\" Ничья!\")\n",
    "            break\n",
    "\n"
   ]
  },
  {
   "cell_type": "markdown",
   "id": "e541a33f-9f74-44ea-a2df-815e47aea70d",
   "metadata": {},
   "source": [
    "# Игра"
   ]
  },
  {
   "cell_type": "code",
   "execution_count": 191,
   "id": "54a6eb58-f5bc-41ed-80ff-3353704c4773",
   "metadata": {},
   "outputs": [
    {
     "name": "stdin",
     "output_type": "stream",
     "text": [
      "Добро пожаловать в игру \"Крестики-нолики\", игра с компьютером (1) или с другом (2)? 1\n",
      "Давайте познакомимся, как Вас зовут? Алексей\n",
      "Алексей, Вы хотите играть за крестики (1) или за нолики(0)? 1\n"
     ]
    },
    {
     "name": "stdout",
     "output_type": "stream",
     "text": [
      "Алексей, рады преведствовать в игре!\n",
      " формат ввода: x y \n",
      " x - номер строки  \n",
      " y - номер столбца \n",
      "\n",
      "    | 0 | 1 | 2 | \n",
      "  --------------- \n",
      "  0 | - | - | - | \n",
      "  --------------- \n",
      "  1 | - | - | - | \n",
      "  --------------- \n",
      "  2 | - | - | - | \n",
      "  --------------- \n",
      "\n"
     ]
    },
    {
     "name": "stdin",
     "output_type": "stream",
     "text": [
      " Алексей, Ваш ход:  0 0\n"
     ]
    },
    {
     "name": "stdout",
     "output_type": "stream",
     "text": [
      "\n",
      "    | 0 | 1 | 2 | \n",
      "  --------------- \n",
      "  0 | X | - | - | \n",
      "  --------------- \n",
      "  1 | - | - | - | \n",
      "  --------------- \n",
      "  2 | - | - | - | \n",
      "  --------------- \n",
      "\n",
      "Ход компютера:\n",
      "\n",
      "    | 0 | 1 | 2 | \n",
      "  --------------- \n",
      "  0 | X | - | - | \n",
      "  --------------- \n",
      "  1 | - | - | O | \n",
      "  --------------- \n",
      "  2 | - | - | - | \n",
      "  --------------- \n",
      "\n"
     ]
    },
    {
     "name": "stdin",
     "output_type": "stream",
     "text": [
      " Алексей, Ваш ход:  0 1\n"
     ]
    },
    {
     "name": "stdout",
     "output_type": "stream",
     "text": [
      "\n",
      "    | 0 | 1 | 2 | \n",
      "  --------------- \n",
      "  0 | X | X | - | \n",
      "  --------------- \n",
      "  1 | - | - | O | \n",
      "  --------------- \n",
      "  2 | - | - | - | \n",
      "  --------------- \n",
      "\n",
      "Ход компютера:\n",
      "\n",
      "    | 0 | 1 | 2 | \n",
      "  --------------- \n",
      "  0 | X | X | O | \n",
      "  --------------- \n",
      "  1 | - | - | O | \n",
      "  --------------- \n",
      "  2 | - | - | - | \n",
      "  --------------- \n",
      "\n"
     ]
    },
    {
     "name": "stdin",
     "output_type": "stream",
     "text": [
      " Алексей, Ваш ход:  2 2\n"
     ]
    },
    {
     "name": "stdout",
     "output_type": "stream",
     "text": [
      "\n",
      "    | 0 | 1 | 2 | \n",
      "  --------------- \n",
      "  0 | X | X | O | \n",
      "  --------------- \n",
      "  1 | - | - | O | \n",
      "  --------------- \n",
      "  2 | - | - | X | \n",
      "  --------------- \n",
      "\n",
      "Ход компютера:\n",
      "\n",
      "    | 0 | 1 | 2 | \n",
      "  --------------- \n",
      "  0 | X | X | O | \n",
      "  --------------- \n",
      "  1 | - | O | O | \n",
      "  --------------- \n",
      "  2 | - | - | X | \n",
      "  --------------- \n",
      "\n"
     ]
    },
    {
     "name": "stdin",
     "output_type": "stream",
     "text": [
      " Алексей, Ваш ход:  1 0\n"
     ]
    },
    {
     "name": "stdout",
     "output_type": "stream",
     "text": [
      "\n",
      "    | 0 | 1 | 2 | \n",
      "  --------------- \n",
      "  0 | X | X | O | \n",
      "  --------------- \n",
      "  1 | X | O | O | \n",
      "  --------------- \n",
      "  2 | - | - | X | \n",
      "  --------------- \n",
      "\n",
      "Ход компютера:\n",
      "\n",
      "    | 0 | 1 | 2 | \n",
      "  --------------- \n",
      "  0 | X | X | O | \n",
      "  --------------- \n",
      "  1 | X | O | O | \n",
      "  --------------- \n",
      "  2 | O | - | X | \n",
      "  --------------- \n",
      "\n",
      " Компютер победил! \n"
     ]
    }
   ],
   "source": [
    "n = int(start())\n",
    "field = [[\"-\"] * 3 for i in range(3) ]\n",
    "if n == 1:\n",
    "    name, position = solo()\n",
    "    instr(name)\n",
    "    solo_play(name,position)\n",
    "else:\n",
    "    name_1, name_2 = multiplay()\n",
    "    instr(name_1,name_2)\n",
    "    multiplay_play(name_1,name_2)"
   ]
  },
  {
   "cell_type": "code",
   "execution_count": null,
   "id": "65dfadb1-64c1-4204-bc2b-af330eaaf7f8",
   "metadata": {},
   "outputs": [],
   "source": []
  }
 ],
 "metadata": {
  "kernelspec": {
   "display_name": "Python 3",
   "language": "python",
   "name": "python3"
  },
  "language_info": {
   "codemirror_mode": {
    "name": "ipython",
    "version": 3
   },
   "file_extension": ".py",
   "mimetype": "text/x-python",
   "name": "python",
   "nbconvert_exporter": "python",
   "pygments_lexer": "ipython3",
   "version": "3.8.8"
  }
 },
 "nbformat": 4,
 "nbformat_minor": 5
}
